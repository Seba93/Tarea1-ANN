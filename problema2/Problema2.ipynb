{
 "cells": [
  {
   "cell_type": "markdown",
   "metadata": {},
   "source": [
    "<h1> 2. Back-propagation (BP) from Scratch <h1>"
   ]
  },
  {
   "cell_type": "markdown",
   "metadata": {},
   "source": [
    "En esta sección, se implementará el algoritmo Back-propagation (de ahora en adelante, BP), frecuentemente utilizado en el entrenamiento de redes neuronales *feedforward*."
   ]
  },
  {
   "cell_type": "markdown",
   "metadata": {},
   "source": [
    "**2.0 Importaciones necesarias**"
   ]
  },
  {
   "cell_type": "code",
   "execution_count": 1,
   "metadata": {
    "collapsed": true
   },
   "outputs": [],
   "source": [
    "import random\n",
    "import math\n",
    "import sklearn\n",
    "from sklearn import preprocessing\n",
    "import pandas\n",
    "import matplotlib\n",
    "from matplotlib import pyplot"
   ]
  },
  {
   "cell_type": "markdown",
   "metadata": {},
   "source": [
    "**2.1 Entrenamiento de red *feedforward* vía BP**"
   ]
  },
  {
   "cell_type": "markdown",
   "metadata": {},
   "source": [
    "**2.1.1 Inicialización de la red**"
   ]
  },
  {
   "cell_type": "markdown",
   "metadata": {},
   "source": [
    "En primer lugar, es necesario definir el tipo de dato que se utilizará para implementar la red, así como también el de cada de uno de sus componentes (capas y neuronas). Cada neurona será un diccionario que almacena los pesos asociados a ella. Luego, cada capa será implementada como un arreglo de neuronas y a su vez, la red completa será un arreglo de capas. Se considerará que cada red posee sólo una capa oculta.\n",
    "\n",
    "Por otro lado, sea I la dimensionalidad de cada input, H el número de neuronas de la capa oculta y O el número de neuronas de la capa oculta (o en otras palabras, la cantidad de clases existentes en el problema de clasificación respectivo). Teóricamente, a cada neurona de la capa oculta se le asocian I + 1 pesos, por lo que dicha capa tiene un total de H x (I + 1) pesos asociados. Además, a cada neurona de la capa de salida le corresponden H + 1 pesos, sumando un total de O x (H + 1) pesos para esta capa. Notar que se ha sumado 1 en cada caso para considerar el *bias*.\n",
    "\n",
    "De esta manera, se procede a implementar la función *init_network*, que recibe a I, H y O como parámetros, y genera como salida una red *feedforward* con una capa oculta y una capa de salida, compuestas por H y O neuronas, respectivamente. Los pesos son determinados de forma aleatoria con valores entre 0 y 1. Por simplicidad, el *bias* es incluído como un peso más."
   ]
  },
  {
   "cell_type": "code",
   "execution_count": 2,
   "metadata": {
    "collapsed": true
   },
   "outputs": [],
   "source": [
    "def init_network(I, H, O):\n",
    "    # Se inicializa red feedforward vacía\n",
    "    ff_network = []\n",
    "    # Se implementa capa oculta, compuesta por H neuronas e H x (I + 1) pesos \n",
    "    hidden_layer = [{'weights': [random.random() for i in range (I + 1)]} for j in range (H)]\n",
    "    # Se implementa capa de salida, compuesta por O neuronas y O x (H + 1) pesos\n",
    "    output_layer = [{'weights': [random.random() for i in range (H + 1)]} for j in range (O)]\n",
    "    # Se agregan las capas a la red\n",
    "    ff_network.extend([hidden_layer, output_layer])\n",
    "    return ff_network"
   ]
  },
  {
   "cell_type": "markdown",
   "metadata": {},
   "source": [
    "**2.1.2 Implementación de *forward pass***"
   ]
  },
  {
   "cell_type": "markdown",
   "metadata": {},
   "source": [
    "En esta sección, se implementará lo que se conoce como *forward-propagation*. Se denomina *forward-propagation* al proceso de generar una respuesta a partir de la propagación de un input determinado a través de las capas de una red neuronal artificial. Dicho proceso es vital en la fase de entrenamiento de la red, pues posibilita que los pesos de cada neurona sean modificados en base al output generado. De forma análoga, será vital para la realización de pruebas sobre inputs no conocidos en la sección 2.3.\n",
    "\n",
    "Para realizar este procedimiento, primero es necesario determinar la **activación de cada neurona**, que corresponde a la suma ponderada de las variables asociadas a un determinado input en base a su peso. Luego, se implementa la función *neuron_activation* que, a partir de un determinado input y sus pesos, determina el valor de la activación."
   ]
  },
  {
   "cell_type": "code",
   "execution_count": 3,
   "metadata": {
    "collapsed": true
   },
   "outputs": [],
   "source": [
    "def neuron_activation(input_, weights):\n",
    "    # Se inicializa activación en 0\n",
    "    activation = 0\n",
    "    for i in range(len(weights) - 1):\n",
    "        activation += weights[i] * input_[i]\n",
    "    # Se suma bias\n",
    "    activation += weights[-1]\n",
    "    return activation"
   ]
  },
  {
   "cell_type": "markdown",
   "metadata": {},
   "source": [
    "Después de que cada neurona es activada, es necesario **transferir la activación**, esto es, aplicar una función no lineal sobre la activación obtenida previamente. Por tanto, se debe escoger una función de este tipo para realizar la transferencia. En este caso, se utilizará la función *tanh* para ambas capas."
   ]
  },
  {
   "cell_type": "markdown",
   "metadata": {},
   "source": [
    "Teniendo esta función implementada, se está en condiciones de realizar el forward pass. Para ello, se implementa la función *forward pass*, que recibe la red completa y un input determinado como parámetros. Así, por cada capa, se calcula el output producido por cada una de las neuronas que forman parte de ella, de tal forma que los outputs de una capa corresponden a los inputs de la siguiente. En este caso, los outputs de la capa oculta son los inputs de la capa de salida. Recordar que hasta este momento, las neuronas están almacenando los pesos que se le asocian. Gracias a esta función, cada neurona también almacenará el output que produce a partir del input y de los pesos."
   ]
  },
  {
   "cell_type": "code",
   "execution_count": 4,
   "metadata": {
    "collapsed": true
   },
   "outputs": [],
   "source": [
    "def forward_pass(network, input_):\n",
    "    for layer in network:\n",
    "        output = []\n",
    "        for neuron in layer:\n",
    "            # Se realiza activación de cada neurona\n",
    "            activation = neuron_activation(input_, neuron['weights'])\n",
    "            # Se realiza transferencia por medio de función ReLU\n",
    "            neuron['output'] = math.tanh(activation)\n",
    "            output.append(neuron['output'])\n",
    "            # Los outputs de la capa oculta corresponden a los inputs de la capa de salida\n",
    "        input_ = output\n",
    "    return output"
   ]
  },
  {
   "cell_type": "markdown",
   "metadata": {},
   "source": [
    "**2.1.3 Implementación de *backward pass***"
   ]
  },
  {
   "cell_type": "markdown",
   "metadata": {},
   "source": [
    "Una vez obtenidos los outputs a partir de un input determinado, es necesario calcular el error asociado a cada uno de los outputs individuales. A continuación, estos errores son \"informados\" a la capa oculta por medio de la capa de salida, de tal manera que los pesos asociados a cada neurona son recalculados.\n",
    "\n",
    "Para realizar este proceso, primero se requiere **evaluar la derivada de la función de transferencia sobre los outputs**. La derivada de la función *tanh* es:\n",
    "\n",
    "**f'(x) = 1 - tanh<sup>2</sup>(x)**\n",
    "\n",
    "Luego, se procede a implementar la derivada de esta función."
   ]
  },
  {
   "cell_type": "code",
   "execution_count": 5,
   "metadata": {
    "collapsed": true
   },
   "outputs": [],
   "source": [
    "# Implementación de la derivada de la función tanh\n",
    "def tanh_derivative(output):\n",
    "    return 1 - math.tanh(output) ** 2"
   ]
  },
  {
   "cell_type": "markdown",
   "metadata": {},
   "source": [
    "En seguida, se requiere **definir como se calculará el error asociado a cada neurona de la capa oculta**. Para esto, primero es necesario calcular el error asociado a cada neurona presente en la capa de salida, el que puede definirse como:\n",
    "\n",
    "**error_neurona_capa_salida = (valor_real - valor_calculado) x f'(valor_calculado)**\n",
    "\n",
    "Sin embargo, la forma de calcular el error asociado a cada neurona en la capa oculta es diferente. Dicho error se obtiene a partir de la suma ponderada de los errores de las neuronas de la capa de salida por sus pesos, es decir:\n",
    "\n",
    "**error_neurona_capa_oculta_i = sumatoria (peso_ij x error_neurona_capa_salida_j) x f'(valor_calculado)**\n",
    "\n",
    "Con esta idea en mente, se implementa la función *backward_pass*, que recibe la red completa y un arreglo con los valores esperados. Lo que hace esta función es almacenar en cada neurona presente en la red el error calculado para ella (en términos de código, esto implica adicionar una nueva llave al diccionario)."
   ]
  },
  {
   "cell_type": "code",
   "execution_count": 6,
   "metadata": {
    "collapsed": true
   },
   "outputs": [],
   "source": [
    "def backward_pass(network, expected_values):\n",
    "    for i in reversed(range(len(network))):\n",
    "        layer = network[i]\n",
    "        errors = []\n",
    "        # Primero se computan los errores en la capa de salida\n",
    "        if i == len(network) - 1:\n",
    "            for j in range(len(layer)):\n",
    "                neuron = layer[j]\n",
    "                errors.append(expected_values[j] - neuron['output'])\n",
    "        \n",
    "        # Luego, se calcula el error de cada neurona de la capa oculta a partir de los errores de las neuronas de la capa\n",
    "        # de salida\n",
    "        else:\n",
    "            for j in range(len(layer)):\n",
    "                error = 0\n",
    "                # Se realiza la suma ponderada sobre las neuronas de la capa de salida\n",
    "                for neuron in network[i + 1]:\n",
    "                    error += neuron['weights'][j] * neuron['error']\n",
    "                errors.append(error)\n",
    "        \n",
    "        # Para cada capa, se multiplica el error de cada neurona por la derivada de la función de transferencia evaluada\n",
    "        # en el output de dicha neurona\n",
    "        for j in range(len(layer)):\n",
    "            neuron = layer[j]\n",
    "            neuron['error'] = errors[j] * tanh_derivative(neuron['output'])    "
   ]
  },
  {
   "cell_type": "markdown",
   "metadata": {},
   "source": [
    "**2.1.4 Entrenamiento**"
   ]
  },
  {
   "cell_type": "markdown",
   "metadata": {},
   "source": [
    "Estando implementados tanto el *backward pass* como el *forward pass*, es posible dar paso a la construcción del proceso de entrenamiento del modelo. En este caso, se utilizará Gradiente Descendente Estocástico (de ahora en adelante, SGD) para ello. Dicho proceso involucra la ejecución de múltiples iteraciones. En cada una, los ejemplos son propagados a través de la red, para luego \"devolver\" los errores correspondientes a cada neurona y así poder actualizar los pesos de cada una. Un peso determinado es actualizado de la siguiente forma:\n",
    "\n",
    "**peso_i = peso_i-1 + tasa_de_aprendizaje x error_i-1 x input**\n",
    "\n",
    "Donde *peso_i* es el nuevo peso de la neurona, *peso_i-1* es su peso actual, *error_i-1* corresponde al error asociado a cada neurona por medio del *backward pass* e *input* es el valor que causó el error. Por otra parte, *tasa_de_aprendizaje* es un parámetro que permite controlar que tanto influye el error asociado a una neurona en la actualización de sus pesos y puede interpretarse como una medida de que tan rápido aprende el modelo, pues mientras mayor es esta tasa, mayor es el cambio que experimentan los pesos.\n",
    "\n",
    "Notar que los pesos son actualizados por medio de un **método iterativo**.\n",
    "\n",
    "Es importante tener en cuenta lo que ocurre con los *bias*. Como no están conectados a ninguna variable del input, sólo se considera la tasa de aprendizaje y el error, de tal forma que:\n",
    "\n",
    "bias_i = bias_i-1 + tasa_de_aprendizaje x error_i-1\n",
    "\n",
    "Así, se procede a implementar la función *update_weights*, la cual se encargará de actualizar los pesos de la red. Esta función recibe la red completa, la tasa de aprendizaje y un input determinado como parámetros obligatorios. Como parámetro optativo, está *weight_decay*, que por ahora no será utilizado (ver sección 2.4 para más detalle). Como salida, se entrega la red con sus pesos actualizados."
   ]
  },
  {
   "cell_type": "code",
   "execution_count": 7,
   "metadata": {
    "collapsed": true
   },
   "outputs": [],
   "source": [
    "# Se actualizan pesos de la red\n",
    "def update_weights(network, learning_rate, input_, weight_decay=None):\n",
    "    for i in range(len(network)):\n",
    "        # Pesos y bias son actualizados de forma diferente\n",
    "        input_ = input_[:-1]\n",
    "        # Los outputs de la capa oculta corresponden a los inputs de la capa de salida\n",
    "        if i != 0:\n",
    "            input_ = [neuron['output'] for neuron in network[i-1]]\n",
    "            \n",
    "        # Por cada capa...\n",
    "        for neuron in network[i]:\n",
    "            # ... se actualizan pesos de cada neurona...\n",
    "            for j in range(len(input_)):\n",
    "                if weight_decay:\n",
    "                    neuron['weights'][j] += learning_rate * neuron['error'] * input_[j] - learning_rate * weight_decay * \\\n",
    "                        neuron['weights'][j]\n",
    "                else:\n",
    "                    neuron['weights'][j] += learning_rate * neuron['error'] * input_[j]\n",
    "            # Y finalmente el bias\n",
    "            neuron['weights'][-1] += learning_rate * neuron['error']"
   ]
  },
  {
   "cell_type": "markdown",
   "metadata": {},
   "source": [
    "Con esto, se está en condiciones de implementar el entrenamiento de la red, proceso que basicamente consistirá en realizar, sobre cada ejemplo perteneciente a un determinado conjunto de entrenamiento, un *forward pass*, un *backward pass* y actualización de pesos, siendo este proceso repetido tantas veces como iteraciones (en este contexto, *épocas*) se desee. Luego, se procede a implementar la función *train_network*, que lleva a cabo el proceso previamente descrito. Esta función recibe una red inicializada aleatoriamente, un conjunto de entrenamiento, tasa de aprendizaje, número de épocas, número de clases del problema como parámetros obligatorios. Como parámetro optativo, está *weight_decay*, no utilizado por ahora. Como salida, se entrega una red entrenada. Notar que a cada ejemplo le corresponde un vector binario que indica su clase, de tal forma que si pertenece a la clase i, este vector tendrá un 1 en la posición y ceros en las posiciones restantes. Esto es necesario para poder comparar el vector de outputs generado por la capa de salida con los valores esperados."
   ]
  },
  {
   "cell_type": "code",
   "execution_count": 8,
   "metadata": {
    "collapsed": true
   },
   "outputs": [],
   "source": [
    "# Se entrena una red determinada\n",
    "def train_network(network, train_dataset, learning_rate, n_epochs, n_classes, weight_decay=None):\n",
    "    for epoch in range(n_epochs):\n",
    "        # Para cada ejemplo del conjunto de entrenamiento...\n",
    "        for example in train_dataset:\n",
    "            # ... se realiza, en primer lugar, el forward pass\n",
    "            output = forward_pass(network, example)\n",
    "            # se define vector binario asociado al ejemplo\n",
    "            example_class = int(example[-1] - 1)\n",
    "            expected_values = [0 for i in range(n_classes)]\n",
    "            expected_values[example_class] = 1\n",
    "            # Se lleva a cabo backward pass\n",
    "            backward_pass(network, expected_values)\n",
    "            # Se actualizan los pesos de la red\n",
    "            # Se utiliza weight decay, en caso de que este parametro sea especificado\n",
    "            update_weights(network, learning_rate, example, weight_decay)"
   ]
  },
  {
   "cell_type": "markdown",
   "metadata": {},
   "source": [
    "**2.2 Realizando predicciones sobre una red *feed forward***"
   ]
  },
  {
   "cell_type": "markdown",
   "metadata": {},
   "source": [
    "A continuación, se implementa la función *predict_classes*, cuyo propósito es realizar predicciones sobre un conjunto de pruebas. Para ello, se hará uso de la función *forward_pass*. Se sabe que esta función genera un vector de dimensionalidad igual al número de clases del problema y que el elemento i-ésimo de dicho vector corresponde a la probabilidad de que el ejemplo propagado a través de la red de pertenezca a la clase i. Luego, el ejemplo pertenecerá a la clase que le corresponda la mayor probabilidad.\n",
    "\n",
    "*predict_classes* recibe una red previamente entrenada y un conjunto de pruebas como parámetros. Como salida, entrega el error de clasificación promedio obtenido sobre el conjunto de pruebas. "
   ]
  },
  {
   "cell_type": "code",
   "execution_count": 9,
   "metadata": {
    "collapsed": true
   },
   "outputs": [],
   "source": [
    "# Se implementa prediccion sobre ejemplos de prueba\n",
    "def predict_classes(network, test_dataset):\n",
    "    # Se lleva un conteo de ejemplos mal clasificados\n",
    "    misclassified_examples = 0.0\n",
    "    for example in test_dataset:\n",
    "        # Se generan probabilidades\n",
    "        output = forward_pass(network, example)\n",
    "        # Se obtiene clase asociada a la mayor probabilidad\n",
    "        example_predicted_class = output.index(max(output)) + 1\n",
    "        # Se verifica si el ejemplo fue bien o mal clasificado\n",
    "        if example_predicted_class != example[-1]:\n",
    "            misclassified_examples += 1\n",
    "    return misclassified_examples / len(test_dataset)"
   ]
  },
  {
   "cell_type": "markdown",
   "metadata": {},
   "source": [
    "**2.3 Aplicación sobre problema real**"
   ]
  },
  {
   "cell_type": "markdown",
   "metadata": {},
   "source": [
    "En esta sección, se busca comprobar el funcionamiento de los algoritmos implementados sobre un dataset real, *seeds*, utilizado para la clasificación de semillas. El dataset está constituido por 210 ejemplos. Además, cada ejemplo está definido por 7 atributos y se definen 3 clases de semilla. Los datos serán normalizados previo a su utilización.\n",
    "\n",
    "El dataset original es dividido en 168 ejemplos de entrenamiento (80% del dataset) y 42 ejemplos de prueba (20% del dataset). "
   ]
  },
  {
   "cell_type": "code",
   "execution_count": 10,
   "metadata": {
    "collapsed": true
   },
   "outputs": [],
   "source": [
    "# Se descarga y almacena dataset en un dataframe\n",
    "url = 'http://archive.ics.uci.edu/ml/machine-learning-databases/00236/seeds_dataset.txt'\n",
    "df = pandas.read_csv(url, sep=r'\\s+', header=None)\n",
    "# Se normaliza dataframe\n",
    "scaler = sklearn.preprocessing.StandardScaler().fit(df.ix[:, 0:6])\n",
    "df.ix[:, 0:6] = scaler.transform(df.ix[:, 0:6])\n",
    "# Se convierte el dataset a formato lista, el cual es utilizado por las funciones implementadas en las secciones previas\n",
    "dataset = df.values.tolist()\n",
    "# Se genera conjunto de entrenamiento\n",
    "train_dataset = dataset[:int(math.floor(0.8 * len(dataset)))]\n",
    "# Se genera conjunto de pruebas\n",
    "test_dataset = dataset[int(math.floor(0.8 * len(dataset))):]"
   ]
  },
  {
   "cell_type": "markdown",
   "metadata": {},
   "source": [
    "Generados el conjunto de entrenamiento y el conjunto de pruebas, se procede a entrenar la red sobre el conjunto de entrenamiento, para luego realizar predicciones sobre este y el conjunto de pruebas. Se usará una tasa de aprendizaje de 0.03 y una cantidad variable de épocas (desde 10 hasta 100, aumentando de 5 en 5). La capa oculta de la red estará constituida por 10 neuronas, mientras que la capa de salida por 3 neuronas."
   ]
  },
  {
   "cell_type": "code",
   "execution_count": 12,
   "metadata": {
    "collapsed": true
   },
   "outputs": [],
   "source": [
    "# Se define tasa de aprendizaje\n",
    "learning_rate = 0.03\n",
    "# Se define cantidad maxima de épocas\n",
    "max_epochs = 100\n",
    "\n",
    "# Se obtiene cantidad de atributos de cada ejemplo (en este caso, 7)\n",
    "n_features = len(train_dataset[0]) - 1\n",
    "# Se obtiene cantidad de clases (en este caso, 3)\n",
    "n_classes = len(set([row[-1] for row in train_dataset]))\n",
    "# Se inicializa red\n",
    "random.seed(1)\n",
    "network = init_network(n_features, 10, n_classes)\n",
    "\n",
    "epochs = []\n",
    "# Se almacenan errores para cada número de épocas posible\n",
    "train_errors = []\n",
    "test_errors = []\n",
    "\n",
    "# Para cada cantidad de épocas posible...\n",
    "for i in range(10, max_epochs + 5, 5):\n",
    "    # ... se entrena la red...\n",
    "    train_network(network, train_dataset, learning_rate, i, n_classes)\n",
    "    # ... y se obtiene error promedio\n",
    "    train_error = predict_classes(network, train_dataset)\n",
    "    test_error = predict_classes(network, test_dataset)\n",
    "    epochs.append(i)\n",
    "    train_errors.append(train_error)\n",
    "    test_errors.append(test_error)"
   ]
  },
  {
   "cell_type": "markdown",
   "metadata": {},
   "source": [
    "Luego de obtener los errores de entrenamiento y de prueba para cada número de épocas posible, se procede a graficar error v/s número de épocas."
   ]
  },
  {
   "cell_type": "code",
   "execution_count": 13,
   "metadata": {
    "scrolled": true
   },
   "outputs": [
    {
     "data": {
      "image/png": "[encoded data removed]",
      "text/plain": [
       "<matplotlib.figure.Figure at 0x7f58e23d0290>"
      ]
     },
     "metadata": {},
     "output_type": "display_data"
    }
   ],
   "source": [
    "pyplot.plot(epochs, train_errors)\n",
    "pyplot.plot(epochs, test_errors)\n",
    "pyplot.xlabel('Epochs')\n",
    "pyplot.ylabel('Error')\n",
    "pyplot.legend(['Train error', 'Test error'], loc='upper left')\n",
    "pyplot.show()"
   ]
  },
  {
   "cell_type": "markdown",
   "metadata": {},
   "source": [
    "En este gráfico, se observa como el error de entrenamiento disminuye paulatinamente a medida que aumenta la cantidad de épocas, presentando sólo algunos leves incrementos en el camino. El error de entrenamiento más alto alcanzado fue del 7,5 %, aproximádamente (10 épocas), mientras que el mínimo se logra se logra para 100 épocas, siendo prácticamente del 0%. Esto resulta lógico si se considera que se está usando una baja tasa de aprendizaje, ya que de acuerdo a la teoría, es una buena práctica asignar valores pequeños a este parámetro cuando la cantidad de épocas especificadas es alta.\n",
    "\n",
    "La situación es radicalmente distinta para el error de pruebas: Presenta un comportamiento bastante particular, pues entre las 10 y 20 épocas, el error decrece, para luego mantenerse constante entre 20 y 35 épocas y presentar un comportamiento relativamente oscilatorio entre 35 y 100 épocas. Es importante notar que el error de pruebas siempre fue más alto que el de entrenamiento, siendo su valor máximo del 17,5% con 55 épocas, aproximádamente.\n",
    "\n",
    "Recordar que los pesos de las neuronas son actualizados en la fase de entrenamiento por medio de un método iterativo."
   ]
  },
  {
   "cell_type": "markdown",
   "metadata": {},
   "source": [
    "**2.4 Entrenamiento vía *weight decay***"
   ]
  },
  {
   "cell_type": "markdown",
   "metadata": {},
   "source": [
    "Con el fin de regularizar los pesos de la red, es posible introducir un nuevo término en la función de actualización de estos, conocido como *weight decay*. Este parámetro penaliza a los pesos más grandes de la red, de tal forma que mientras mayor es el peso, mayor es la reducción que experimenta. Con esta práctica se espera evitar que el modelo no sufra de *overfitting*.\n",
    "\n",
    "Recordar, que hasta ahora, los pesos estaban siendo actualizados en base a la expresión:\n",
    "\n",
    "**peso_i = peso_i-1 + tasa_de_aprendizaje x error_i-1 x input**\n",
    "\n",
    "Al incluir el nuevo término, la expresión queda:\n",
    "\n",
    "**peso_i = peso_i-1 + tasa_de_aprendizaje x error_i-1 x input - tasa_de_aprendizaje x weight_decay * peso_i-1**\n",
    "\n",
    "El razonamiento es análogo para el bias.\n",
    "\n",
    "En esta sección, se introduce *weight_decay* dentro del proceso de entrenamiento de la red. Así, se vuelve a estudiar el problema de la sección 2.3 y el modelo es entrado nuevamente, para luego generar predicciones sobre los conjuntos de entrenamiento y de prueba. Se usará *weight_decay* = 0,01 en este caso (la tasa de aprendizaje y el número máximo de épocas se mantienen en 0,03 y 100, respectivamente)."
   ]
  },
  {
   "cell_type": "code",
   "execution_count": 14,
   "metadata": {
    "collapsed": true
   },
   "outputs": [],
   "source": [
    "# Se inicializa red\n",
    "random.seed(1)\n",
    "network = init_network(n_features, 10, n_classes)\n",
    "\n",
    "# Se almacenan errores para cada número de épocas posible\n",
    "train_errors = []\n",
    "test_errors = []\n",
    "\n",
    "# Para cada cantidad de épocas posible...\n",
    "for i in range(10, max_epochs + 5, 5):\n",
    "    # ... se entrena la red...\n",
    "    train_network(network, train_dataset, learning_rate, i, n_classes, weight_decay=0.01)\n",
    "    # ... y se obtiene error promedio\n",
    "    train_error = predict_classes(network, train_dataset)\n",
    "    test_error = predict_classes(network, test_dataset)\n",
    "    train_errors.append(train_error)\n",
    "    test_errors.append(test_error)"
   ]
  },
  {
   "cell_type": "markdown",
   "metadata": {},
   "source": [
    "Con ello, es interesante observar como varian las predicciones y los errores por medio de esta modificación. Se procede, entonces, a graficar error v/s número de épocas."
   ]
  },
  {
   "cell_type": "code",
   "execution_count": 15,
   "metadata": {},
   "outputs": [
    {
     "data": {
      "image/png": "[encoded data removed]",
      "text/plain": [
       "<matplotlib.figure.Figure at 0x7f58e2459e10>"
      ]
     },
     "metadata": {},
     "output_type": "display_data"
    }
   ],
   "source": [
    "pyplot.plot(epochs, train_errors)\n",
    "pyplot.plot(epochs, test_errors)\n",
    "pyplot.xlabel('Epochs')\n",
    "pyplot.ylabel('Error')\n",
    "pyplot.legend(['Train error', 'Test error'], loc='lower right')\n",
    "pyplot.show()"
   ]
  },
  {
   "cell_type": "markdown",
   "metadata": {},
   "source": [
    "El gráfico anterior muestra que el error de entrenamiento, al igual que en el caso anterior, disminuye a medida que aumenta la cantidad de épocas, siendo su valor mínimo del 6,5%, aproximadamente, para 60 y 65 épocas. Desde este último punto en adelante, el error se mantiene constante en ese valor. De esta manera, el error de entrenamiento aumenta con *weight decay* en comparación con el caso en que este parámetro no fue utilizado.\n",
    "\n",
    "Por otro lado, el error de pruebas presenta un valor constante del 5%, aproximadamente, entre 10 y 45 épocas, aumentando al 7% desde las 50 épocas en adelante y manteniendo dicho valor hasta alcanzar las 100 épocas. Con ello, se tiene que el error de pruebas presenta una importante disminución al utilizar *weight_decay* en comparación con el caso en que no se utiliza, existiendo un 10,5% de diferencias entre ambas cifras."
   ]
  }
 ],
 "metadata": {
  "kernelspec": {
   "display_name": "Python 2",
   "language": "python",
   "name": "python2"
  },
  "language_info": {
   "codemirror_mode": {
    "name": "ipython",
    "version": 2
   },
   "file_extension": ".py",
   "mimetype": "text/x-python",
   "name": "python",
   "nbconvert_exporter": "python",
   "pygments_lexer": "ipython2",
   "version": "2.7.12"
  }
 },
 "nbformat": 4,
 "nbformat_minor": 2
}
